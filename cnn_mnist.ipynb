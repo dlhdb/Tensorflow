{
 "cells": [
  {
   "cell_type": "code",
   "execution_count": 178,
   "metadata": {},
   "outputs": [],
   "source": [
    "import numpy as np\n",
    "import tensorflow as tf\n",
    "import matplotlib.pyplot as plt"
   ]
  },
  {
   "cell_type": "code",
   "execution_count": 179,
   "metadata": {
    "scrolled": true
   },
   "outputs": [
    {
     "name": "stdout",
     "output_type": "stream",
     "text": [
      "Extracting MNIST-data\\train-images-idx3-ubyte.gz\n",
      "Extracting MNIST-data\\train-labels-idx1-ubyte.gz\n",
      "Extracting MNIST-data\\t10k-images-idx3-ubyte.gz\n",
      "Extracting MNIST-data\\t10k-labels-idx1-ubyte.gz\n"
     ]
    }
   ],
   "source": [
    "# load images\n",
    "mnist = tf.contrib.learn.datasets.load_dataset(\"mnist\")\n",
    "train_data = mnist.train.images # Returns np.array\n",
    "train_labels = np.asarray(mnist.train.labels, dtype=np.int32)\n",
    "eval_data = mnist.test.images # Returns np.array\n",
    "eval_labels = np.asarray(mnist.test.labels, dtype=np.int32)"
   ]
  },
  {
   "cell_type": "code",
   "execution_count": 180,
   "metadata": {},
   "outputs": [
    {
     "name": "stdout",
     "output_type": "stream",
     "text": [
      "(55000, 784)\n",
      "(55000,)\n",
      "(10000, 784)\n",
      "(10000,)\n",
      "1.0\n",
      "0.0\n"
     ]
    },
    {
     "data": {
      "image/png": "[encoded data removed]",
      "text/plain": [
       "<matplotlib.figure.Figure at 0x211c5f89320>"
      ]
     },
     "metadata": {},
     "output_type": "display_data"
    },
    {
     "name": "stdout",
     "output_type": "stream",
     "text": [
      "3\n"
     ]
    }
   ],
   "source": [
    "# explore data\n",
    "print(train_data.shape)\n",
    "print(train_labels.shape)\n",
    "print(eval_data.shape)\n",
    "print(eval_labels.shape)\n",
    "\n",
    "print(np.max(train_data))\n",
    "print(np.min(train_data))\n",
    "\n",
    "img = train_data[1].reshape(28,28)\n",
    "plt.imshow(img)\n",
    "plt.show()\n",
    "print(train_labels[1])"
   ]
  },
  {
   "cell_type": "markdown",
   "metadata": {
    "collapsed": true
   },
   "source": [
    "# Tensorflow"
   ]
  },
  {
   "cell_type": "code",
   "execution_count": 181,
   "metadata": {},
   "outputs": [],
   "source": [
    "tf.reset_default_graph()\n",
    "\n",
    "data = tf.placeholder(\n",
    "    tf.float32, \n",
    "    shape=[None, 784], \n",
    "    name='x')\n",
    "\n",
    "labels = tf.placeholder(\n",
    "    tf.int32, \n",
    "    shape=[None], \n",
    "    name='y')\n",
    "\n",
    "# one-hot encode label\n",
    "onehot_labels = tf.one_hot(indices=labels, depth=10)\n",
    "\n",
    "# input layer, transform data to 28*28*1\n",
    "input_layer = input_layer = tf.reshape(data, [-1, 28, 28, 1])\n",
    "\n",
    "# conv layer1, output 28*28*32\n",
    "conv1 = tf.layers.conv2d(\n",
    "      inputs=input_layer,\n",
    "      filters=32,\n",
    "      kernel_size=[5, 5],\n",
    "      padding=\"same\",\n",
    "      activation=tf.nn.relu)\n",
    "\n",
    "# pooling layer1, output 14*14*32\n",
    "pool1 = tf.layers.max_pooling2d(\n",
    "    inputs=conv1, \n",
    "    pool_size=[2, 2], \n",
    "    strides=2)\n",
    "\n",
    "# conv layer2, output 14*14*64\n",
    "conv2 = tf.layers.conv2d(\n",
    "      inputs=pool1,\n",
    "      filters=64,\n",
    "      kernel_size=[5, 5],\n",
    "      padding=\"same\",\n",
    "      activation=tf.nn.relu)\n",
    "\n",
    "# pool layer2, output 7*7*64\n",
    "pool2 = tf.layers.max_pooling2d(\n",
    "    inputs=conv2, \n",
    "    pool_size=[2, 2], \n",
    "    strides=2)\n",
    "\n",
    "# flatten\n",
    "pool2_flat = tf.reshape(pool2, [-1, 7 * 7 * 64])\n",
    "\n",
    "# full connected layer1\n",
    "dense = tf.layers.dense(\n",
    "    inputs=pool2_flat, \n",
    "    units=1024, \n",
    "    activation=tf.nn.relu)\n",
    "\n",
    "# output layer\n",
    "# full connected layer1\n",
    "output_layer = tf.layers.dense(\n",
    "    inputs=pool2_flat,\n",
    "    units=10)\n",
    "\n",
    "# caculate loss\n",
    "cost = tf.reduce_mean(tf.nn.softmax_cross_entropy_with_logits(logits=output_layer, labels=onehot_labels))\n",
    "optimizer = tf.train.AdamOptimizer().minimize(cost)\n",
    "\n",
    "predictions = {\n",
    "      # Generate predictions (for PREDICT and EVAL mode)\n",
    "      \"classes\": tf.argmax(input=output_layer, axis=1),\n",
    "      # Add `softmax_tensor` to the graph. It is used for PREDICT and by the\n",
    "      # `logging_hook`.\n",
    "      \"probabilities\": tf.nn.softmax(output_layer, name=\"softmax_tensor\")\n",
    "}"
   ]
  },
  {
   "cell_type": "code",
   "execution_count": 183,
   "metadata": {
    "collapsed": true
   },
   "outputs": [],
   "source": [
    "from sklearn.utils import shuffle \n",
    "\n",
    "def train_batch_generator(x, y, bs):\n",
    "    while True:\n",
    "        new_ind = shuffle(range(len(x)))\n",
    "        x = np.take(x, new_ind, axis=0)\n",
    "        y = y.take(new_ind)\n",
    "\n",
    "        x_train = np.array([]).reshape(0, x.shape[1])\n",
    "        y_train = np.array([])\n",
    "        for i in range(x.shape[0]):\n",
    "            x_train = np.row_stack((x_train, np.array(x[i])))\n",
    "            y_train = np.append(y_train, y[i])\n",
    "            if x_train.shape[0] == bs:\n",
    "                x_batch = x_train.copy()\n",
    "                y_batch = y_train.copy()\n",
    "                x_train = np.array([]).reshape(0, x.shape[1])\n",
    "                y_train = np.array([])\n",
    "                yield x_batch, y_batch"
   ]
  },
  {
   "cell_type": "code",
   "execution_count": 184,
   "metadata": {},
   "outputs": [],
   "source": [
    "sess = tf.Session()\n",
    "init = tf.global_variables_initializer()\n",
    "sess.run(init)"
   ]
  },
  {
   "cell_type": "code",
   "execution_count": 186,
   "metadata": {},
   "outputs": [
    {
     "name": "stdout",
     "output_type": "stream",
     "text": [
      "[0.9365505]\n",
      "[0.23540218]\n",
      "[0.2641505]\n",
      "[0.24721909]\n",
      "[0.20076159]\n",
      "[0.1777809]\n",
      "[0.20348167]\n",
      "[0.28633344]\n",
      "[0.087416]\n",
      "[0.1062653]\n",
      "[0.098484755]\n",
      "[0.20935161]\n",
      "[0.036967054]\n",
      "[0.2535326]\n",
      "[0.15920426]\n",
      "[0.0992663]\n",
      "[0.15338622]\n",
      "[0.061559394]\n",
      "[0.07140657]\n",
      "[0.051532947]\n"
     ]
    }
   ],
   "source": [
    "epoch = 30\n",
    "bs = 100\n",
    "\n",
    "gen = train_batch_generator(train_data, train_labels, bs)\n",
    "\n",
    "costRec = np.array([])\n",
    "for i in range(200):\n",
    "    x_batch, y_batch = next(gen)\n",
    "    sess.run([optimizer], feed_dict={data:x_batch, labels:y_batch})\n",
    "    if i%10 == 0:\n",
    "        crtCost = sess.run([cost], feed_dict={data:x_batch, labels:y_batch})\n",
    "        print(crtCost)\n",
    "        costRec = np.append(costRec,crtCost)"
   ]
  },
  {
   "cell_type": "code",
   "execution_count": 191,
   "metadata": {},
   "outputs": [
    {
     "data": {
      "image/png": "[encoded data removed]",
      "text/plain": [
       "<matplotlib.figure.Figure at 0x211c4597c50>"
      ]
     },
     "metadata": {},
     "output_type": "display_data"
    }
   ],
   "source": [
    "plt.plot(np.arange(len(costRec)), costRec)\n",
    "plt.show()"
   ]
  },
  {
   "cell_type": "code",
   "execution_count": 197,
   "metadata": {},
   "outputs": [
    {
     "name": "stdout",
     "output_type": "stream",
     "text": [
      "[9 2 3 3 5 3 0 8 0 8 0 0 0 7 3 4 8 2 1 9 9 3 1 0 5 5 0 6 8 4 6 7 1 8 0 8 4\n",
      " 7 5 1 9 3 0 1 7 6 0 8 9 8 0 5 7 9 5 4 5 3 4 7 1 8 6 5 1 2 3 5 4 4 7 8 3 3\n",
      " 5 3 7 6 2 0 0 7 5 5 6 9 0 5 9 0 7 6 3 0 8 1 3 3 0 5 4 4 9 5 3 7 8 4 1 7 4\n",
      " 6 8 9 3 6 4 0 6 9 3 4 0 6 6 9 0 6 2 9 1 4 4 0 9 1 3 3 6 2 3 7 2 8 1 3 4 8\n",
      " 7 8 8 8 8 9 4 1 0 0 6 9 3 5 8 6 6 0 4 0 3 4 8 2 4 7 7 2 6 2 3 3 9 2 1 0 4\n",
      " 3 1 7 8 6 0 9 1 5 0 3 8 1 5 0]\n",
      "[9. 2. 3. 3. 5. 3. 0. 2. 0. 8. 0. 0. 0. 7. 3. 4. 8. 2. 1. 9. 9. 3. 7. 0.\n",
      " 5. 5. 0. 6. 8. 4. 6. 7. 1. 8. 0. 8. 4. 7. 5. 1. 9. 3. 0. 1. 7. 6. 0. 8.\n",
      " 9. 8. 0. 5. 7. 9. 5. 4. 5. 3. 4. 7. 1. 8. 6. 5. 1. 2. 3. 5. 4. 4. 7. 8.\n",
      " 3. 3. 5. 3. 7. 6. 2. 0. 0. 7. 5. 5. 6. 9. 0. 5. 9. 0. 7. 6. 3. 0. 8. 1.\n",
      " 3. 3. 0. 5. 4. 4. 9. 3. 3. 7. 8. 4. 1. 9. 4. 6. 0. 9. 3. 6. 4. 0. 6. 9.\n",
      " 3. 4. 0. 6. 6. 9. 0. 6. 2. 9. 1. 4. 4. 0. 9. 9. 3. 3. 6. 7. 3. 7. 2. 8.\n",
      " 1. 8. 8. 8. 7. 8. 8. 8. 8. 9. 4. 1. 0. 0. 6. 9. 3. 5. 8. 6. 6. 0. 4. 0.\n",
      " 2. 4. 8. 2. 4. 7. 7. 2. 6. 2. 3. 3. 9. 2. 1. 0. 4. 3. 1. 7. 8. 6. 0. 9.\n",
      " 1. 5. 0. 3. 8. 1. 5. 0.]\n",
      "0.95\n"
     ]
    }
   ],
   "source": [
    "test_gen = train_batch_generator(eval_data, eval_labels, 200)\n",
    "x_test_batch, y_test_batch = next(test_gen)\n",
    "\n",
    "classes, probs = sess.run(\n",
    "    [predictions['classes'], predictions['probabilities']],\n",
    "    feed_dict={data:x_test_batch, labels:y_test_batch})\n",
    "\n",
    "print(classes)\n",
    "print(y_test_batch)\n",
    "\n",
    "accuracy = np.sum(classes.astype(int) == y_test_batch) / len(y_test_batch)\n",
    "print(accuracy)"
   ]
  }
 ],
 "metadata": {
  "kernelspec": {
   "display_name": "Python 3",
   "language": "python",
   "name": "python3"
  },
  "language_info": {
   "codemirror_mode": {
    "name": "ipython",
    "version": 3
   },
   "file_extension": ".py",
   "mimetype": "text/x-python",
   "name": "python",
   "nbconvert_exporter": "python",
   "pygments_lexer": "ipython3",
   "version": "3.6.3"
  }
 },
 "nbformat": 4,
 "nbformat_minor": 2
}
