{
 "cells": [
  {
   "cell_type": "markdown",
   "metadata": {
    "collapsed": true
   },
   "source": [
    "# Working flow\n",
    "1. import libs\n",
    "2. load data and preprocess data (maybe create features)\n",
    "3. split data to training and validation set\n",
    "4. build model (graph)\n",
    "5. train model and record performance"
   ]
  },
  {
   "cell_type": "markdown",
   "metadata": {},
   "source": [
    "# 1. Import libs"
   ]
  },
  {
   "cell_type": "code",
   "execution_count": 359,
   "metadata": {},
   "outputs": [],
   "source": [
    "import tensorflow as tf\n",
    "\n",
    "from sklearn.model_selection import train_test_split\n",
    "from sklearn.utils import shuffle\n",
    "\n",
    "import os\n",
    "import matplotlib.pyplot as plt\n",
    "import numpy as np\n",
    "\n",
    "from tqdm import tqdm"
   ]
  },
  {
   "cell_type": "markdown",
   "metadata": {},
   "source": [
    "# 2. Load data and preprocess data"
   ]
  },
  {
   "cell_type": "code",
   "execution_count": 338,
   "metadata": {
    "collapsed": true
   },
   "outputs": [],
   "source": [
    "from sklearn.datasets import load_digits\n",
    "digits = load_digits()"
   ]
  },
  {
   "cell_type": "code",
   "execution_count": 339,
   "metadata": {},
   "outputs": [],
   "source": [
    "x = digits.data\n",
    "y = digits.target"
   ]
  },
  {
   "cell_type": "code",
   "execution_count": 340,
   "metadata": {},
   "outputs": [
    {
     "name": "stdout",
     "output_type": "stream",
     "text": [
      "(1797, 64)\n",
      "(1797,)\n",
      "[ 0.  0.  5. 13.  9.  1.  0.  0.  0.  0. 13. 15. 10. 15.  5.  0.  0.  3.\n",
      " 15.  2.  0. 11.  8.  0.  0.  4. 12.  0.  0.  8.  8.  0.  0.  5.  8.  0.\n",
      "  0.  9.  8.  0.  0.  4. 11.  0.  1. 12.  7.  0.  0.  2. 14.  5. 10. 12.\n",
      "  0.  0.  0.  0.  6. 13. 10.  0.  0.  0.]\n",
      "0\n"
     ]
    }
   ],
   "source": [
    "print(x.shape)\n",
    "print(y.shape)\n",
    "print(x[0])\n",
    "print(y[0])"
   ]
  },
  {
   "cell_type": "code",
   "execution_count": 341,
   "metadata": {},
   "outputs": [
    {
     "data": {
      "image/png": "[encoded data removed]",
      "text/plain": [
       "<matplotlib.figure.Figure at 0x243fee99d30>"
      ]
     },
     "metadata": {},
     "output_type": "display_data"
    }
   ],
   "source": [
    "img = np.reshape(x[0], (8,8))\n",
    "\n",
    "plt.figure(figsize=(3,3))\n",
    "plt.imshow(img)\n",
    "plt.show()"
   ]
  },
  {
   "cell_type": "code",
   "execution_count": 342,
   "metadata": {},
   "outputs": [
    {
     "data": {
      "text/plain": [
       "array([0.    , 0.    , 0.3125, 0.8125, 0.5625, 0.0625, 0.    , 0.    ,\n",
       "       0.    , 0.    , 0.8125, 0.9375, 0.625 , 0.9375, 0.3125, 0.    ,\n",
       "       0.    , 0.1875, 0.9375, 0.125 , 0.    , 0.6875, 0.5   , 0.    ,\n",
       "       0.    , 0.25  , 0.75  , 0.    , 0.    , 0.5   , 0.5   , 0.    ,\n",
       "       0.    , 0.3125, 0.5   , 0.    , 0.    , 0.5625, 0.5   , 0.    ,\n",
       "       0.    , 0.25  , 0.6875, 0.    , 0.0625, 0.75  , 0.4375, 0.    ,\n",
       "       0.    , 0.125 , 0.875 , 0.3125, 0.625 , 0.75  , 0.    , 0.    ,\n",
       "       0.    , 0.    , 0.375 , 0.8125, 0.625 , 0.    , 0.    , 0.    ])"
      ]
     },
     "execution_count": 342,
     "metadata": {},
     "output_type": "execute_result"
    }
   ],
   "source": [
    "# normalize x value to [0,1]\n",
    "x_nor = x / np.max(x)\n",
    "x_nor[0]"
   ]
  },
  {
   "cell_type": "code",
   "execution_count": 343,
   "metadata": {},
   "outputs": [
    {
     "name": "stdout",
     "output_type": "stream",
     "text": [
      "0 [1. 0. 0. 0. 0. 0. 0. 0. 0. 0.]\n",
      "1 [0. 1. 0. 0. 0. 0. 0. 0. 0. 0.]\n",
      "2 [0. 0. 1. 0. 0. 0. 0. 0. 0. 0.]\n",
      "3 [0. 0. 0. 1. 0. 0. 0. 0. 0. 0.]\n",
      "4 [0. 0. 0. 0. 1. 0. 0. 0. 0. 0.]\n",
      "5 [0. 0. 0. 0. 0. 1. 0. 0. 0. 0.]\n",
      "6 [0. 0. 0. 0. 0. 0. 1. 0. 0. 0.]\n",
      "7 [0. 0. 0. 0. 0. 0. 0. 1. 0. 0.]\n",
      "8 [0. 0. 0. 0. 0. 0. 0. 0. 1. 0.]\n",
      "9 [0. 0. 0. 0. 0. 0. 0. 0. 0. 1.]\n"
     ]
    }
   ],
   "source": [
    "# one-hot encode y\n",
    "y_onehot = np.eye(10)[y]\n",
    "\n",
    "for i in range(10):\n",
    "    print(y[i], y_onehot[i])"
   ]
  },
  {
   "cell_type": "markdown",
   "metadata": {},
   "source": [
    "# 3. split data to training and validation set"
   ]
  },
  {
   "cell_type": "code",
   "execution_count": 344,
   "metadata": {},
   "outputs": [],
   "source": [
    "x_train, x_vali, y_train, y_vali = train_test_split(x_nor, y_onehot, test_size=0.1, random_state=17)"
   ]
  },
  {
   "cell_type": "code",
   "execution_count": 345,
   "metadata": {},
   "outputs": [
    {
     "name": "stdout",
     "output_type": "stream",
     "text": [
      "(1617, 64) (1617, 10)\n",
      "(180, 64) (180, 10)\n"
     ]
    }
   ],
   "source": [
    "print(x_train.shape, y_train.shape)\n",
    "print(x_vali.shape, y_vali.shape)"
   ]
  },
  {
   "cell_type": "markdown",
   "metadata": {
    "collapsed": true
   },
   "source": [
    "# 4. build model (graph)"
   ]
  },
  {
   "cell_type": "markdown",
   "metadata": {},
   "source": [
    "## using tensorflow lower component"
   ]
  },
  {
   "cell_type": "code",
   "execution_count": 354,
   "metadata": {},
   "outputs": [],
   "source": [
    "# build a fully connected NN\n",
    "tf.reset_default_graph()\n",
    "\n",
    "# input placeholder\n",
    "x = tf.placeholder(dtype=tf.float32, shape=(None, 64))\n",
    "\n",
    "# label placeholder\n",
    "y_real = tf.placeholder(dtype=tf.float32, shape=(None, 10))\n",
    "\n",
    "with tf.variable_scope('hidden_layer1'):\n",
    "    w1 = tf.get_variable(\n",
    "        name='w1', \n",
    "        shape=(64, 25), \n",
    "        dtype=tf.float32, \n",
    "        initializer=tf.truncated_normal_initializer(stddev=0.1, seed=31))\n",
    "    \n",
    "    b1 = tf.get_variable(\n",
    "        name='b1', \n",
    "        shape=(25), \n",
    "        dtype=tf.float32, \n",
    "        initializer=tf.constant_initializer(0))\n",
    "    \n",
    "    h1 = tf.nn.relu((tf.matmul(x, w1) + b1))\n",
    "    \n",
    "with tf.variable_scope('output_layer'):\n",
    "    wo = tf.get_variable(\n",
    "        name='wo', \n",
    "        shape=(25,10), \n",
    "        dtype=tf.float32, \n",
    "        initializer=tf.truncated_normal_initializer(stddev=0.1, seed=3))\n",
    "\n",
    "    bo = tf.get_variable(\n",
    "        name='bo', \n",
    "        shape=(10), \n",
    "        dtype=tf.float32, \n",
    "        initializer=tf.constant_initializer(0))\n",
    "    \n",
    "    y_pred = tf.nn.relu((tf.matmul(h1, wo) + bo))\n",
    "    \n",
    "with tf.name_scope('cross_entropy'):\n",
    "    cross_entropy = tf.nn.softmax_cross_entropy_with_logits_v2(logits=y_pred, labels=y_real)\n",
    "    loss = tf.reduce_mean(cross_entropy)\n",
    "    \n",
    "with tf.name_scope('accuracy'):\n",
    "    correct = tf.equal(\n",
    "        tf.argmax(y_pred, axis=1), \n",
    "        tf.argmax(y_real, axis=1))\n",
    "    accuracy = tf.reduce_mean(tf.cast(correct, dtype=tf.float32))\n",
    "    \n",
    "with tf.name_scope('optimizer'):\n",
    "    opt = tf.train.AdamOptimizer(learning_rate=0.001)\n",
    "    update = opt.minimize(loss)"
   ]
  },
  {
   "cell_type": "markdown",
   "metadata": {},
   "source": [
    "## using tensorflow layer"
   ]
  },
  {
   "cell_type": "code",
   "execution_count": 332,
   "metadata": {
    "collapsed": true
   },
   "outputs": [],
   "source": [
    "# build a fully connected NN\n",
    "tf.reset_default_graph()\n",
    "\n",
    "# input placeholder\n",
    "x = tf.placeholder(dtype=tf.float32, shape=(None, 64))\n",
    "\n",
    "# label placeholder\n",
    "y_real = tf.placeholder(dtype=tf.float32, shape=(None, 10))\n",
    "\n",
    "with tf.variable_scope('hidden_layer1'):\n",
    "    h1 = tf.layers.dense(inputs=x, units=25, activation=tf.nn.relu)\n",
    "    \n",
    "with tf.variable_scope('output_layer'):   \n",
    "    y_pred = tf.layers.dense(inputs=h1, units=10)\n",
    "    \n",
    "with tf.name_scope('cross_entropy'):\n",
    "    cross_entropy = tf.nn.softmax_cross_entropy_with_logits_v2(logits=y_pred, labels=y_real)\n",
    "    loss = tf.reduce_mean(cross_entropy)\n",
    "    \n",
    "with tf.name_scope('accuracy'):\n",
    "    correct = tf.equal(\n",
    "        tf.argmax(y_pred, axis=1), \n",
    "        tf.argmax(y_real, axis=1))\n",
    "    accuracy = tf.reduce_mean(tf.cast(correct, dtype=tf.float32))\n",
    "    \n",
    "with tf.name_scope('optimizer'):\n",
    "    opt = tf.train.AdamOptimizer(learning_rate=0.001)\n",
    "    update = opt.minimize(loss)"
   ]
  },
  {
   "cell_type": "markdown",
   "metadata": {},
   "source": [
    "# 5. train model and record performance"
   ]
  },
  {
   "cell_type": "code",
   "execution_count": 355,
   "metadata": {
    "collapsed": true
   },
   "outputs": [],
   "source": [
    "def BatchGenerator(x, y, bs):\n",
    "    index = np.arange(x.shape[0])\n",
    "    batch_num = int(len(index) / bs) # drop last few data\n",
    "    \n",
    "    ind_sh = shuffle(index)\n",
    "    x_sh = x[ind_sh]\n",
    "    y_sh = y[ind_sh]\n",
    "    for i in range (batch_num):\n",
    "        x_batch = x_sh[i*bs : (i+1)*bs]\n",
    "        y_batch = y_sh[i*bs : (i+1)*bs]\n",
    "        yield x_batch, y_batch"
   ]
  },
  {
   "cell_type": "code",
   "execution_count": 362,
   "metadata": {
    "collapsed": true
   },
   "outputs": [],
   "source": [
    "sess = tf.Session()\n",
    "init = tf.global_variables_initializer()\n",
    "sess.run(init)"
   ]
  },
  {
   "cell_type": "code",
   "execution_count": 363,
   "metadata": {},
   "outputs": [
    {
     "name": "stderr",
     "output_type": "stream",
     "text": [
      "100%|████████████████████████████████████████████████████████████████████████████████| 100/100 [00:03<00:00, 30.72it/s]\n"
     ]
    }
   ],
   "source": [
    "loss_rec, accuracy_rec = [],[]\n",
    "loss_v_rec, accuracy_v_rec = [],[]\n",
    "bs = 32\n",
    "epoch = 100\n",
    "\n",
    "for i in tqdm(range(epoch)):\n",
    "    gen = BatchGenerator(x_train, y_train, bs)\n",
    "    while(True):\n",
    "        batch = next(gen, None)\n",
    "        if(batch == None):\n",
    "            break\n",
    "        sess.run([update], feed_dict={x:batch[0], y_real:batch[1]})\n",
    "    \n",
    "    l, acc = sess.run([loss, accuracy], feed_dict={x:x_train, y_real:y_train})\n",
    "    loss_rec.append(l)\n",
    "    accuracy_rec.append(acc)\n",
    "    l_v, acc_v = sess.run([loss, accuracy], feed_dict={x:x_vali, y_real:y_vali})\n",
    "    loss_v_rec.append(l_v)\n",
    "    accuracy_v_rec.append(acc_v)"
   ]
  },
  {
   "cell_type": "code",
   "execution_count": 365,
   "metadata": {},
   "outputs": [
    {
     "data": {
      "image/png": "[encoded data removed]",
      "text/plain": [
       "<matplotlib.figure.Figure at 0x243febdcc18>"
      ]
     },
     "metadata": {},
     "output_type": "display_data"
    },
    {
     "name": "stdout",
     "output_type": "stream",
     "text": [
      "Final loss 0.4975384\n",
      "Final validation loss 0.57789636\n"
     ]
    },
    {
     "data": {
      "image/png": "[encoded data removed]",
      "text/plain": [
       "<matplotlib.figure.Figure at 0x243feed8940>"
      ]
     },
     "metadata": {},
     "output_type": "display_data"
    },
    {
     "name": "stdout",
     "output_type": "stream",
     "text": [
      "Final accuracy 0.7946815\n",
      "Final validation accuracy 0.7722222\n"
     ]
    }
   ],
   "source": [
    "plt.plot(np.arange(len(loss_rec)), loss_rec)\n",
    "plt.plot(np.arange(len(loss_v_rec)), loss_v_rec)\n",
    "plt.show()\n",
    "print('Final loss',loss_rec[-1])\n",
    "print('Final validation loss',loss_v_rec[-1])\n",
    "\n",
    "plt.plot(np.arange(len(accuracy_rec)), accuracy_rec)\n",
    "plt.plot(np.arange(len(accuracy_v_rec)), accuracy_v_rec)\n",
    "plt.show()\n",
    "print('Final accuracy',accuracy_rec[-1])\n",
    "print('Final validation accuracy',accuracy_v_rec[-1])"
   ]
  }
 ],
 "metadata": {
  "kernelspec": {
   "display_name": "Python 3",
   "language": "python",
   "name": "python3"
  },
  "language_info": {
   "codemirror_mode": {
    "name": "ipython",
    "version": 3
   },
   "file_extension": ".py",
   "mimetype": "text/x-python",
   "name": "python",
   "nbconvert_exporter": "python",
   "pygments_lexer": "ipython3",
   "version": "3.6.3"
  }
 },
 "nbformat": 4,
 "nbformat_minor": 2
}
